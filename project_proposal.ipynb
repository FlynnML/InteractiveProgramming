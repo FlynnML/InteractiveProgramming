{
 "cells": [
  {
   "cell_type": "markdown",
   "metadata": {},
   "source": [
    "The main idea of our project is to create an interactive, two-player Ultimate Tic-Tac-Toe game. We will explore the model view controller with reference to both players to modify the output of the game, as well as class types for the different elements in the game. Our MVP would be a simple, working version of Ultimate Tic-Tac-Toe with loose rules. A stretch goal would be to implement a \"hard\" mode that would add difficulty not only for the players, but for us while coding it, and maybe even add in a CPU player.\n",
    "\n",
    "Noah's learning goals are to get more experience with classes and gain more Git experience.\n",
    "Flynn's learning goals are to develop more comfort with longer coding and to improve doctest and debugging skills.\n",
    "\n",
    "We will definitely use pygame, pickle, and other basic imports (like math and such). We will figure out what to import and what to make with classes on a rolling basis after making a design framework for the code.\n",
    "\n",
    "We would like to have an outline of our code (such as stock-flow diagrams and classes at least brainstormed), as well as a working display (not necessarily a working game) for testing and viewing results. \n",
    "\n",
    "The hardest part we predict will be coding for the user interface, since Ultimate Tic-Tac-Toe seems to appear relatively mathematically simple, but the interactions between the users and the model may prove to be difficult."
   ]
  },
  {
   "cell_type": "code",
   "execution_count": null,
   "metadata": {
    "collapsed": true
   },
   "outputs": [],
   "source": []
  }
 ],
 "metadata": {
  "kernelspec": {
   "display_name": "Python 3",
   "language": "python",
   "name": "python3"
  },
  "language_info": {
   "codemirror_mode": {
    "name": "ipython",
    "version": 3
   },
   "file_extension": ".py",
   "mimetype": "text/x-python",
   "name": "python",
   "nbconvert_exporter": "python",
   "pygments_lexer": "ipython3",
   "version": "3.6.3"
  }
 },
 "nbformat": 4,
 "nbformat_minor": 2
}
